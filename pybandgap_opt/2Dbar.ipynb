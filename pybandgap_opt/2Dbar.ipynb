{
 "cells": [
  {
   "cell_type": "code",
   "execution_count": 1,
   "metadata": {},
   "outputs": [],
   "source": [
    "import ufl\n",
    "import numpy as np\n",
    "from dolfinx import io\n",
    "from mpi4py import MPI\n",
    "from pybandgap_opt.fem import FemUtils\n",
    "from dolfinx.mesh import create_unit_interval\n",
    "from pybandgap_opt.set_structure import SetStructure, Material\n",
    "from dolfinx.fem import Function, form, assemble_matrix\n",
    "import gmsh\n",
    "\n",
    "np.set_printoptions(precision=3, suppress=False, formatter={'float': '{:0.1e}'.format})"
   ]
  },
  {
   "cell_type": "code",
   "execution_count": null,
   "metadata": {},
   "outputs": [],
   "source": []
  }
 ],
 "metadata": {
  "kernelspec": {
   "display_name": "test-complex",
   "language": "python",
   "name": "python3"
  },
  "language_info": {
   "codemirror_mode": {
    "name": "ipython",
    "version": 3
   },
   "file_extension": ".py",
   "mimetype": "text/x-python",
   "name": "python",
   "nbconvert_exporter": "python",
   "pygments_lexer": "ipython3",
   "version": "3.10.16"
  }
 },
 "nbformat": 4,
 "nbformat_minor": 2
}
